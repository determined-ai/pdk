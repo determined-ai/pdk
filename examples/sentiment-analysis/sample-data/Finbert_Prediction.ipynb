{
 "cells": [
  {
   "cell_type": "markdown",
   "id": "da6d3011-8e5d-4d2d-9e48-c44c947a321c",
   "metadata": {},
   "source": [
    "<img src=\"https://github.com/denisabrantes/pdk-use-cases/blob/main/images/hpe_logo.png?raw=true\" alt=\"HPE Logo\" width=\"250\" style=\"align:left;margin-left:0;\"/>"
   ]
  },
  {
   "cell_type": "markdown",
   "id": "ba3033d6-3d69-4911-968a-26f90c2ff764",
   "metadata": {},
   "source": [
    "<h1>Finbert Prediction from KServe InferenceService</h1>\n",
    "\n",
    "<b>Date: 08/15/23</b><br/>\n",
    "<b>Version: 0.1</b><br/>\n",
    "<b>Authors: HPE AI At Scale SE Team</b>"
   ]
  },
  {
   "cell_type": "markdown",
   "id": "fe0cee4a-a3c1-48b5-86b9-b33b50de586b",
   "metadata": {},
   "source": [
    "<img src=\"https://github.com/denisabrantes/pdk-use-cases/blob/main/images/platform_step0.png?raw=true\" alt=\"Enterprise Machine Learning platform architecture\" width=\"850\">"
   ]
  },
  {
   "cell_type": "markdown",
   "id": "615fd494-142c-4341-b928-df7bebfa4954",
   "metadata": {},
   "source": [
    "<h3>Import modules and define functions</h3>\n",
    "The cell below imports all modules and libraries required to run the demo."
   ]
  },
  {
   "cell_type": "code",
   "execution_count": 1,
   "id": "5995591f-539f-4b79-8304-3492b7e7eac0",
   "metadata": {},
   "outputs": [],
   "source": [
    "# imports\n",
    "import sys\n",
    "import torch\n",
    "import json\n",
    "import uuid\n",
    "import base64\n",
    "import requests\n",
    "import numpy as np\n",
    "import pandas as pd \n",
    "import matplotlib.pyplot as plt"
   ]
  },
  {
   "cell_type": "markdown",
   "id": "a701a4d6",
   "metadata": {},
   "source": [
    "<h2>Part 1: Use this code to load the sample .json files and generate predictions</h2>"
   ]
  },
  {
   "cell_type": "code",
   "execution_count": 2,
   "id": "e822df67",
   "metadata": {},
   "outputs": [],
   "source": [
    "# Define connection details for KServe InferenceService\n",
    "model_name = \"finbert\"\n",
    "ingress_host = \"192.168.1.2\"\n",
    "ingress_port = \"80\"\n",
    "service_hostname = \"finbert-deploy.models.example.com\""
   ]
  },
  {
   "cell_type": "code",
   "execution_count": 3,
   "id": "e909d182",
   "metadata": {},
   "outputs": [],
   "source": [
    "with open(\"finbert_0.json\", \"r\") as finfile:\n",
    "    finjson = json.loads(finfile.read())"
   ]
  },
  {
   "cell_type": "code",
   "execution_count": 4,
   "id": "180756a0",
   "metadata": {},
   "outputs": [],
   "source": [
    "url = str(\"http://\") + str(ingress_host) + \":\" + str(ingress_port) + \"/v1/models/\" + str(model_name) + \":predict\"\n",
    "headers = {'Host': service_hostname}\n",
    "payload = json.dumps(finjson)"
   ]
  },
  {
   "cell_type": "code",
   "execution_count": 5,
   "id": "5e00d707",
   "metadata": {},
   "outputs": [
    {
     "name": "stdout",
     "output_type": "stream",
     "text": [
      "negative\n"
     ]
    }
   ],
   "source": [
    "label_list = [\"positive\", \"negative\", \"neutral\"]\n",
    "response = requests.post(url, data=payload, headers=headers)\n",
    "output = response.json()\n",
    "pred_name = label_list[int(output[\"outputs\"][0][\"data\"][0])]\n",
    "print(pred_name)"
   ]
  },
  {
   "cell_type": "code",
   "execution_count": null,
   "id": "9a67a933",
   "metadata": {},
   "outputs": [],
   "source": []
  },
  {
   "cell_type": "markdown",
   "id": "cf0cbd3f",
   "metadata": {},
   "source": [
    "<h2>Part 2: Use this code to generate predictions from other json inputs</h2>"
   ]
  },
  {
   "cell_type": "markdown",
   "id": "ed8056db-801d-4dcd-8353-bc1e98e26244",
   "metadata": {},
   "source": [
    "<h4>Step 1: Setting up connection details to KServe</h4>"
   ]
  },
  {
   "cell_type": "code",
   "execution_count": 6,
   "id": "6112e2ad-b337-4ae1-861b-2c41885b0efd",
   "metadata": {},
   "outputs": [],
   "source": [
    "# Define connection details for KServe InferenceService\n",
    "model_name = \"finbert\"\n",
    "ingress_host = \"192.168.1.2\"\n",
    "ingress_port = \"80\"\n",
    "service_hostname = \"finbert-deploy.models.example.com\""
   ]
  },
  {
   "cell_type": "markdown",
   "id": "7480ff46-ee55-468e-9891-610bd55a7523",
   "metadata": {},
   "source": [
    "<h4>Step 2: Defining text samples to submit to KServe</h4>"
   ]
  },
  {
   "cell_type": "code",
   "execution_count": 7,
   "id": "26b9a2ef-94c3-4e2b-a62f-e609cc7f12ef",
   "metadata": {},
   "outputs": [
    {
     "name": "stdout",
     "output_type": "stream",
     "text": [
      "TEXT #1 THAT WILL BE SUBMITTED: \n",
      "===============================\n",
      "Later that day Apple said it was revising down its earnings expectations in the fourth quarter of 2018, largely because of lower sales and signs of economic weakness in China.\n",
      "\n",
      "TEXT #2 THAT WILL BE SUBMITTED: \n",
      "===============================\n",
      "Bob van Dijk, CEO of Naspers and Prosus Group poses at Amsterdam's stock exchange, as Prosus begins trading on the Euronext stock exchange in Amsterdam, Netherlands, September 11, 2019 - REUTERS/Piroschka van de Wouw\n",
      "\n",
      "TEXT #3 THAT WILL BE SUBMITTED: \n",
      "===============================\n",
      "Euronext had given an indicative price of 58.70 euros per share for Prosus, implying an increased market value of 95.3 billion euros ($105 billion) - The shares jumped up to 76 euros on opening and were trading at 75 euros at 0719 GMT.\n",
      "\n",
      "TEXT #4 THAT WILL BE SUBMITTED: \n",
      "===============================\n",
      "Antonio Neri, CEO of HPE, said at the WEF in Davos, Switzerland, that HPE would deliver every product as a service by 2022, resulting in higher margins and more re-occuring revenue from cloud repatriation efforts.\n",
      "\n"
     ]
    }
   ],
   "source": [
    "# define empty list to hold submissions\n",
    "neg_text = []\n",
    "\n",
    "# define string to create sentiment analysis for (NEGATIVE)\n",
    "neg_text.append(\"Later that day Apple said it was revising down its earnings expectations in the fourth quarter of 2018, largely because of lower sales and signs of economic weakness in China.\")\n",
    "\n",
    "# define string to create sentiment analysis for (NEUTRAL)\n",
    "neg_text.append(\"Bob van Dijk, CEO of Naspers and Prosus Group poses at Amsterdam's stock exchange, as Prosus begins trading on the Euronext stock exchange in Amsterdam, Netherlands, September 11, 2019 - REUTERS/Piroschka van de Wouw\")\n",
    "\n",
    "# define string to create sentiment analysis for (POSITIVE)\n",
    "neg_text.append(\"Euronext had given an indicative price of 58.70 euros per share for Prosus, implying an increased market value of 95.3 billion euros ($105 billion) - The shares jumped up to 76 euros on opening and were trading at 75 euros at 0719 GMT.\")\n",
    "\n",
    "# define string to create sentiment analysis for (POSITIVE)\n",
    "neg_text.append(\"Antonio Neri, CEO of HPE, said at the WEF in Davos, Switzerland, that HPE would deliver every product as a service by 2022, resulting in higher margins and more re-occuring revenue from cloud repatriation efforts.\")\n",
    "\n",
    "\n",
    "# print text that will be submitted\n",
    "i = 0\n",
    "for text in neg_text:\n",
    "    print(\"TEXT #\" + str(i+1) + \" THAT WILL BE SUBMITTED: \\n\" + \"=\"*31 + \"\\n\" + str(text) + \"\\n\")\n",
    "    i+=1"
   ]
  },
  {
   "cell_type": "markdown",
   "id": "132300b7-2896-49a6-a170-510ae2dfb582",
   "metadata": {},
   "source": [
    "<h4>Step 3: Request prediction from KServe InferenceService</h4>"
   ]
  },
  {
   "cell_type": "code",
   "execution_count": 8,
   "id": "153aa928-bfed-4fc3-a987-b82ff3d83da0",
   "metadata": {},
   "outputs": [],
   "source": [
    "# Set url and headers for GRPC request\n",
    "url = str(\"http://\") + str(ingress_host) + \":\" + str(ingress_port) + \"/v1/models/\" + str(model_name) + \":predict\"\n",
    "headers = {'Host': service_hostname}\n",
    "\n",
    "# Define empty list for storing sentiments\n",
    "sentiment = []\n",
    "\n",
    "\n",
    "# Loop over the stored text in neg_text, predict class for each one\n",
    "i = 0\n",
    "for text in neg_text:\n",
    "\n",
    "    # Create JSON payload for request\n",
    "    request = {\n",
    "      \"inputs\": [{\n",
    "        \"name\": str(uuid.uuid4()),\n",
    "        \"shape\": -1,\n",
    "        \"datatype\": \"BYTES\",\n",
    "        \"data\": text\n",
    "      }]\n",
    "    }\n",
    "    \n",
    "    # Dump request as JSON into payload\n",
    "    payload = json.dumps(request)\n",
    "\n",
    "    # Submit request, extract prediction in JSON, transform to Tensor\n",
    "    response = requests.post(url, data=payload, headers=headers)\n",
    "\n",
    "    # Extract predicted class and append to list\n",
    "    output = response.json()\n",
    "    sentiment.append(output[\"outputs\"][0][\"data\"][0])"
   ]
  },
  {
   "cell_type": "markdown",
   "id": "aed3523b-bc3b-48f8-82c9-367ee936444e",
   "metadata": {},
   "source": [
    "<h3>Step 4: Display predictions</h3>"
   ]
  },
  {
   "cell_type": "code",
   "execution_count": 9,
   "id": "90ec0367-49fa-4a6b-aa14-d6390e06285c",
   "metadata": {},
   "outputs": [
    {
     "name": "stdout",
     "output_type": "stream",
     "text": [
      "Result #1\n",
      "===============================\n",
      "TEXT: Later that day Apple said it was revising down its earnings expectations in the fourth quarter of 2018, largely because of lower sales and signs of economic weakness in China.\n",
      "SENTIMENT: negative\n",
      "\n",
      "Result #2\n",
      "===============================\n",
      "TEXT: Bob van Dijk, CEO of Naspers and Prosus Group poses at Amsterdam's stock exchange, as Prosus begins trading on the Euronext stock exchange in Amsterdam, Netherlands, September 11, 2019 - REUTERS/Piroschka van de Wouw\n",
      "SENTIMENT: neutral\n",
      "\n",
      "Result #3\n",
      "===============================\n",
      "TEXT: Euronext had given an indicative price of 58.70 euros per share for Prosus, implying an increased market value of 95.3 billion euros ($105 billion) - The shares jumped up to 76 euros on opening and were trading at 75 euros at 0719 GMT.\n",
      "SENTIMENT: positive\n",
      "\n",
      "Result #4\n",
      "===============================\n",
      "TEXT: Antonio Neri, CEO of HPE, said at the WEF in Davos, Switzerland, that HPE would deliver every product as a service by 2022, resulting in higher margins and more re-occuring revenue from cloud repatriation efforts.\n",
      "SENTIMENT: positive\n",
      "\n"
     ]
    }
   ],
   "source": [
    "# list of labels\n",
    "label_list = [\"positive\", \"negative\", \"neutral\"]\n",
    "\n",
    "# print result for every submission\n",
    "i = 0\n",
    "for pred in sentiment:\n",
    "    print(\"Result #\" + str(i+1) + \"\\n\" + \"=\"*31 + \"\\n\" + \"TEXT: \" + str(neg_text[i]))\n",
    "    print(\"SENTIMENT: \" + label_list[int(sentiment[i])] + \"\\n\")\n",
    "    i+=1"
   ]
  },
  {
   "cell_type": "code",
   "execution_count": 10,
   "id": "a9b9b33a-78ab-41e9-b136-a8053f526103",
   "metadata": {},
   "outputs": [
    {
     "data": {
      "text/plain": [
       "<Axes: title={'center': 'Sentiment predictions FSI'}>"
      ]
     },
     "execution_count": 10,
     "metadata": {},
     "output_type": "execute_result"
    },
    {
     "data": {
      "image/png": "[encoded data removed]",
      "text/plain": [
       "<Figure size 640x480 with 1 Axes>"
      ]
     },
     "metadata": {},
     "output_type": "display_data"
    }
   ],
   "source": [
    "# create pd.dataframe for visualization\n",
    "df_sentiment = pd.DataFrame(sentiment)\n",
    "df_sentiment.columns = [\"sentiment\"]\n",
    "df_sentiment.loc[df_sentiment[\"sentiment\"] == \"0\", \"sentiment\"] = \"positive\"\n",
    "df_sentiment.loc[df_sentiment[\"sentiment\"] == \"1\", \"sentiment\"] = \"negative\"\n",
    "df_sentiment.loc[df_sentiment[\"sentiment\"] == \"2\", \"sentiment\"] = \"neutral\"\n",
    "\n",
    "# print plot\n",
    "df_sentiment[\"sentiment\"].value_counts().plot(kind=\"pie\", title=\"Sentiment predictions FSI\", ylabel=\"\")"
   ]
  },
  {
   "cell_type": "code",
   "execution_count": null,
   "id": "feec7f35-9d95-4de8-99a6-4f4e1d06c477",
   "metadata": {},
   "outputs": [],
   "source": []
  }
 ],
 "metadata": {
  "kernelspec": {
   "display_name": "Python 3 (ipykernel)",
   "language": "python",
   "name": "python3"
  },
  "language_info": {
   "codemirror_mode": {
    "name": "ipython",
    "version": 3
   },
   "file_extension": ".py",
   "mimetype": "text/x-python",
   "name": "python",
   "nbconvert_exporter": "python",
   "pygments_lexer": "ipython3",
   "version": "3.10.9"
  }
 },
 "nbformat": 4,
 "nbformat_minor": 5
}
