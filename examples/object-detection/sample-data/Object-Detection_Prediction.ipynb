{
 "cells": [
  {
   "cell_type": "markdown",
   "id": "a3db2d70-a547-4ae5-90af-41776ccdc1df",
   "metadata": {},
   "source": [
    "<img src=\"https://github.com/denisabrantes/pdk-use-cases/blob/main/images/hpe_logo.png?raw=true\" alt=\"HPE Logo\" width=\"250\" style=\"align:left;margin-left:0;\"/>"
   ]
  },
  {
   "cell_type": "markdown",
   "id": "d8c985c8-c8e7-470b-bc86-2e90965a2316",
   "metadata": {},
   "source": [
    "<h1>Object Detection Prediction from KServe InferenceService</h1>\n",
    "\n",
    "<b>Date: 01/02/24</b><br/>\n",
    "<b>Version: 0.1</b><br/>\n",
    "<b>Authors: HPE AI At Scale SE Team</b>"
   ]
  },
  {
   "cell_type": "markdown",
   "id": "8f5d81ea-a298-4222-af50-aba99892d0db",
   "metadata": {},
   "source": [
    "<img src=\"https://github.com/denisabrantes/pdk-use-cases/blob/main/images/platform_step0.png?raw=true\" alt=\"Enterprise Machine Learning platform architecture\" width=\"850\">"
   ]
  },
  {
   "cell_type": "markdown",
   "id": "67a9655b-fe98-4e12-a39a-1f88dc44030c",
   "metadata": {},
   "source": [
    "<h3>Import modules and define functions</h3>\n",
    "The cells below imports all modules and libraries required to run the demo."
   ]
  },
  {
   "cell_type": "code",
   "execution_count": 1,
   "id": "536d3073-63ac-4cc9-a68c-b3e1bbfa7672",
   "metadata": {},
   "outputs": [],
   "source": [
    "# !pip install -q ipywidgets\n",
    "# !pip install -q scikit-image"
   ]
  },
  {
   "cell_type": "code",
   "execution_count": 2,
   "id": "114d7b4b-670e-4cd5-9f3d-49fe9b7701dc",
   "metadata": {},
   "outputs": [],
   "source": [
    "import sys\n",
    "import glob\n",
    "import base64\n",
    "import json\n",
    "import requests\n",
    "import matplotlib.pyplot as plt\n",
    "\n",
    "from skimage import io\n",
    "from PIL import Image, ImageDraw\n",
    "from ipywidgets import interact, interactive\n",
    "import ipywidgets as widgets\n",
    "import io\n",
    "\n",
    "from tqdm import tqdm\n",
    "from multiprocessing import Pool"
   ]
  },
  {
   "cell_type": "markdown",
   "id": "d86e3b72-5baa-4645-a875-71cb2097eb57",
   "metadata": {},
   "source": [
    "<h2>Part 1: Use this code to load images from a folder and generate predictions</h2>"
   ]
  },
  {
   "cell_type": "markdown",
   "id": "c0058c92-9328-43a3-9fa6-f519b4467b84",
   "metadata": {},
   "source": [
    "<h4>Step 1: Setting up connection details to KServe</h4>"
   ]
  },
  {
   "cell_type": "code",
   "execution_count": 26,
   "id": "e3952c64-fb9b-49ca-a4b6-0fbe5e196666",
   "metadata": {},
   "outputs": [],
   "source": [
    "# http://detection-deploy.pdk.192.168.11.103.sslip.io/v1/models\n",
    "endpoint_name = \"detection-deploy\"\n",
    "model_name =\"object-detection\"\n",
    "ingress_host = \"192.168.11.103\"\n",
    "ingress_port = \"80\"\n",
    "service_hostname = \"detection-deploy.pdk.192.168.11.103.sslip.io\""
   ]
  },
  {
   "cell_type": "code",
   "execution_count": 10,
   "id": "a3199933-dd7a-4d5b-aa1d-028604e55f3a",
   "metadata": {},
   "outputs": [],
   "source": [
    "# !curl -v http://detection-deploy.pdk.192.168.11.103.sslip.io/v1/models/object-detection:predict"
   ]
  },
  {
   "cell_type": "markdown",
   "id": "da90ec6d-e0c5-4fdf-b6f8-d146bd71d9a9",
   "metadata": {},
   "source": [
    "<h4>Step 2: Request prediction from KServe InferenceService</h4>"
   ]
  },
  {
   "cell_type": "code",
   "execution_count": 11,
   "id": "75d577ac-f48f-4368-a7ba-27cce644da8f",
   "metadata": {},
   "outputs": [],
   "source": [
    "def plot_pred(im,pred_d,thres=0.15):\n",
    "    draw = ImageDraw.Draw(im)\n",
    "    try:\n",
    "        for pred in pred_d['predictions'][0]:\n",
    "            assert len(list(pred.keys())) == 2\n",
    "            cl_name = list(pred.keys())[0]\n",
    "            bboxes = pred[cl_name]\n",
    "            if pred['score'] > thres:\n",
    "                draw.rectangle([bboxes[0],bboxes[1],bboxes[2],bboxes[3]],outline=(255,0,0),fill=None,width=1)\n",
    "                draw.text([bboxes[0],bboxes[1]-10],\"{} :{:.2f}\".format(cl_name,pred['score']),fill=(250,0,0))\n",
    "        plt.figure(figsize=(8,8))\n",
    "    except Exception as e:\n",
    "        print(e)\n",
    "        pass\n",
    "    plt.imshow(im)\n",
    "    plt.show()\n",
    "    return im"
   ]
  },
  {
   "cell_type": "code",
   "execution_count": 27,
   "id": "0c82c9e1-c256-4409-9020-2c777039c386",
   "metadata": {},
   "outputs": [],
   "source": [
    "def predict(args):\n",
    "    image= Image.open(args[0])\n",
    "    with io.BytesIO() as buffer:\n",
    "        image.save(buffer, format='JPEG')\n",
    "        image_bytes = buffer.getvalue()\n",
    "    image_64_encode = base64.b64encode(image_bytes)\n",
    "    bytes_array = image_64_encode.decode(\"utf-8\")\n",
    "    \n",
    "    # Format the request in json\n",
    "    request = {\n",
    "      \"instances\":[\n",
    "        {\n",
    "          \"data\": bytes_array\n",
    "        }\n",
    "      ]\n",
    "    }\n",
    "    ingress_host = args[1]\n",
    "    ingress_port = args[2]\n",
    "    model_name = args[3]\n",
    "    service_hostname = args[4]\n",
    "\n",
    "    url = str(\"http://\") + str(ingress_host) + \":\" + str(ingress_port) + \"/v1/models/\" + str(model_name) + \":predict\"\n",
    "    # url = str(\"http://detection-deploy.pdk.\") + str(ingress_host)+ \"/v1/models/\" + str(model_name) + \":predict\"\n",
    "\n",
    "    print(url)\n",
    "    headers = {'Host': service_hostname, \"Content-Type\" : \"application/json\"}\n",
    "    payload = json.dumps(request)\n",
    "\n",
    "    response = requests.post(url, data=payload, headers=headers)\n",
    "    print(response)\n",
    "    return response.json()"
   ]
  },
  {
   "cell_type": "code",
   "execution_count": 13,
   "id": "19297dff-18e3-4e9a-b890-d82f809aae02",
   "metadata": {},
   "outputs": [],
   "source": [
    "def visualize(idx,thres=0.15):\n",
    "    print(idx,thres)\n",
    "    output = resps[idx]\n",
    "    im = Image.open(imgs[idx])\n",
    "    plot_pred(im,output,thres)"
   ]
  },
  {
   "cell_type": "code",
   "execution_count": 14,
   "id": "71443965-ce56-4af0-b2c8-8a1f9146434d",
   "metadata": {},
   "outputs": [],
   "source": [
    "def run_apply_async_multiprocessing(func, argument_list, num_processes):\n",
    "    pool = Pool(processes=num_processes)\n",
    "\n",
    "    jobs = [pool.apply_async(func=func, args=(*argument,)) if isinstance(argument, tuple) else pool.apply_async(func=func, args=(argument,)) for argument in argument_list]\n",
    "    pool.close()\n",
    "    result_list_tqdm = []\n",
    "    for job in tqdm(jobs):\n",
    "        result_list_tqdm.append(job.get())\n",
    "\n",
    "    return result_list_tqdm"
   ]
  },
  {
   "cell_type": "code",
   "execution_count": 16,
   "id": "af5fc89b-6bb2-4e6d-9fd6-cc3a56272eb9",
   "metadata": {},
   "outputs": [],
   "source": [
    "# !curl -v http://detection-deploy.pdk.192.168.11.103.sslip.io/v1/models"
   ]
  },
  {
   "cell_type": "code",
   "execution_count": 17,
   "id": "cd0c1052-922d-495c-a831-86fdfafe3095",
   "metadata": {},
   "outputs": [],
   "source": [
    "images = r\"./images/*.jpg\""
   ]
  },
  {
   "cell_type": "code",
   "execution_count": 18,
   "id": "72a34b60-9200-448d-8e7b-8997db84e581",
   "metadata": {},
   "outputs": [],
   "source": [
    "imgs = [img for img in glob.glob(images, recursive=True)]"
   ]
  },
  {
   "cell_type": "code",
   "execution_count": 29,
   "id": "7be4eaec-376f-4f9d-ad5c-b63335b966bd",
   "metadata": {},
   "outputs": [
    {
     "name": "stderr",
     "output_type": "stream",
     "text": [
      "  0%|          | 0/1 [00:00<?, ?it/s]"
     ]
    },
    {
     "name": "stdout",
     "output_type": "stream",
     "text": [
      "http://192.168.11.103:80/v1/models/object-detection:predict\n",
      "<Response [200]>\n"
     ]
    },
    {
     "name": "stderr",
     "output_type": "stream",
     "text": [
      "100%|██████████| 1/1 [00:02<00:00,  2.23s/it]\n"
     ]
    }
   ],
   "source": [
    "resps = run_apply_async_multiprocessing(predict,\n",
    "                                        [[imgs[i],\n",
    "                                        ingress_host,\n",
    "                                        ingress_port,\n",
    "                                        model_name,\n",
    "                                        service_hostname] for i in range(len(imgs))],num_processes=4)"
   ]
  },
  {
   "cell_type": "code",
   "execution_count": 31,
   "id": "12ae9dc5-37cd-4ed5-8abe-24b85b706d04",
   "metadata": {},
   "outputs": [],
   "source": [
    "# !curl -v http://detection-deploy-predictor.pdk.192.168.11.103.sslip.io/v1/models/object-detection:predict"
   ]
  },
  {
   "cell_type": "code",
   "execution_count": null,
   "id": "bff8d614-81a6-45d1-bac6-50f22a79c3a9",
   "metadata": {},
   "outputs": [],
   "source": []
  },
  {
   "cell_type": "code",
   "execution_count": 30,
   "id": "9313ef09-a77c-457c-9bcc-d9c30a6b3cc6",
   "metadata": {},
   "outputs": [],
   "source": [
    "# predict([imgs[0],ingress_host,ingress_port,model_name,service_hostname])"
   ]
  },
  {
   "cell_type": "code",
   "execution_count": null,
   "id": "e6468488-74e2-4940-83ca-8fe2ae794a47",
   "metadata": {},
   "outputs": [],
   "source": [
    "!curl -v http://192.168.11.103/v1/models/"
   ]
  },
  {
   "cell_type": "code",
   "execution_count": 32,
   "id": "8492a8cb-3f84-41ca-b5a6-578abc100d3b",
   "metadata": {},
   "outputs": [
    {
     "data": {
      "application/vnd.jupyter.widget-view+json": {
       "model_id": "57a5c129cccf437b806054d37c2e06e0",
       "version_major": 2,
       "version_minor": 0
      },
      "text/plain": [
       "interactive(children=(IntSlider(value=0, description='idx', max=1), FloatSlider(value=0.0, description='thres'…"
      ]
     },
     "metadata": {},
     "output_type": "display_data"
    }
   ],
   "source": [
    "interact(visualize, \n",
    "         idx=widgets.IntSlider(min=0, max=len(resps), step=1, value=0),\n",
    "         thres = widgets.FloatSlider(min=0, max=1.0, step=0.1, value=0.00));"
   ]
  },
  {
   "cell_type": "code",
   "execution_count": null,
   "id": "c6ad65cd-28db-486b-a103-a467c83193bf",
   "metadata": {},
   "outputs": [],
   "source": []
  },
  {
   "cell_type": "markdown",
   "id": "3109992f-3409-44b1-bac7-846cc7e299db",
   "metadata": {},
   "source": [
    "<h2>Part 2: Use this code to load the sample .json files and generate predictions</h2>"
   ]
  },
  {
   "cell_type": "code",
   "execution_count": null,
   "id": "53875828-b54e-483f-88bf-4fb7f5ff1016",
   "metadata": {},
   "outputs": [],
   "source": [
    "with open(\"object_detection.json\", \"r\") as objfile:\n",
    "    imgfile = json.loads(objfile.read())"
   ]
  },
  {
   "cell_type": "code",
   "execution_count": null,
   "id": "ed9be21f-3f29-4c29-a8e4-b8a5b342fde1",
   "metadata": {},
   "outputs": [],
   "source": [
    "jsonimg = imgfile[\"instances\"][0][\"data\"]"
   ]
  },
  {
   "cell_type": "code",
   "execution_count": null,
   "id": "eee00ae1-6732-46a1-8e5b-2b1228a9c783",
   "metadata": {},
   "outputs": [],
   "source": [
    "# Format the request in json\n",
    "request = {\n",
    "  \"instances\":[\n",
    "    {\n",
    "      \"data\": jsonimg\n",
    "    }\n",
    "  ]\n",
    "}\n",
    "\n",
    "url = str(\"http://\") + str(ingress_host) + \":\" + str(ingress_port) + \"/v1/models/\" + str(model_name) + \":predict\"\n",
    "headers = {'Host': service_hostname, \"Content-Type\" : \"application/json\"}\n",
    "payload = json.dumps(request)\n",
    "\n",
    "response = requests.post(url, data=payload, headers=headers)"
   ]
  },
  {
   "cell_type": "code",
   "execution_count": null,
   "id": "c1806f0d-1f72-4769-aa89-3a8beb9ef59d",
   "metadata": {},
   "outputs": [],
   "source": [
    "print(response.json())"
   ]
  },
  {
   "cell_type": "code",
   "execution_count": null,
   "id": "cc9c2625-1585-4374-b71a-9bca3c34843f",
   "metadata": {},
   "outputs": [],
   "source": []
  }
 ],
 "metadata": {
  "kernelspec": {
   "display_name": "Python 3 (ipykernel)",
   "language": "python",
   "name": "python3"
  },
  "language_info": {
   "codemirror_mode": {
    "name": "ipython",
    "version": 3
   },
   "file_extension": ".py",
   "mimetype": "text/x-python",
   "name": "python",
   "nbconvert_exporter": "python",
   "pygments_lexer": "ipython3",
   "version": "3.8.17"
  }
 },
 "nbformat": 4,
 "nbformat_minor": 5
}
